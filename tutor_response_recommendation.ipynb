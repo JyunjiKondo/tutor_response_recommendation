{
  "nbformat": 4,
  "nbformat_minor": 0,
  "metadata": {
    "colab": {
      "name": "tutor response recommendation",
      "version": "0.3.2",
      "views": {},
      "default_view": {},
      "provenance": [],
      "collapsed_sections": []
    },
    "kernelspec": {
      "name": "python3",
      "display_name": "Python 3"
    },
    "accelerator": "GPU"
  },
  "cells": [
    {
      "metadata": {
        "id": "dOQOLqu7H76z",
        "colab_type": "text"
      },
      "cell_type": "markdown",
      "source": [
        "# 共通処理"
      ]
    },
    {
      "metadata": {
        "id": "oB3yg8F7X741",
        "colab_type": "code",
        "colab": {
          "autoexec": {
            "startup": false,
            "wait_interval": 0
          },
          "output_extras": [
            {
              "item_id": 1
            }
          ],
          "base_uri": "https://localhost:8080/",
          "height": 34
        },
        "outputId": "fc4a41bd-a0e8-421e-ea64-2bc8afdc21ae",
        "executionInfo": {
          "status": "ok",
          "timestamp": 1521617532851,
          "user_tz": -540,
          "elapsed": 9243,
          "user": {
            "displayName": "Jyunji Kondo",
            "photoUrl": "//lh5.googleusercontent.com/-ePriUP2MWEY/AAAAAAAAAAI/AAAAAAAAAAA/zo08Cfn_CTk/s50-c-k-no/photo.jpg",
            "userId": "107156435865418083018"
          }
        }
      },
      "cell_type": "code",
      "source": [
        "!pip install -q keras\n",
        "import keras"
      ],
      "execution_count": 1,
      "outputs": [
        {
          "output_type": "stream",
          "text": [
            "Using TensorFlow backend.\n"
          ],
          "name": "stderr"
        }
      ]
    },
    {
      "metadata": {
        "id": "ti6nBSm-Msqk",
        "colab_type": "code",
        "colab": {
          "autoexec": {
            "startup": false,
            "wait_interval": 0
          },
          "output_extras": [
            {
              "item_id": 1
            },
            {
              "item_id": 3
            }
          ],
          "resources": {
            "http://localhost:8080/nbextensions/google.colab/files.js": {
              "data": "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",
              "ok": true,
              "headers": [
                [
                  "content-type",
                  "application/javascript"
                ]
              ],
              "status": 200,
              "status_text": ""
            }
          },
          "base_uri": "https://localhost:8080/",
          "height": 103
        },
        "outputId": "8fc62bc6-d4ed-487b-b764-985fb1a995b4",
        "executionInfo": {
          "status": "ok",
          "timestamp": 1521617581499,
          "user_tz": -540,
          "elapsed": 46336,
          "user": {
            "displayName": "Jyunji Kondo",
            "photoUrl": "//lh5.googleusercontent.com/-ePriUP2MWEY/AAAAAAAAAAI/AAAAAAAAAAA/zo08Cfn_CTk/s50-c-k-no/photo.jpg",
            "userId": "107156435865418083018"
          }
        }
      },
      "cell_type": "code",
      "source": [
        "from google.colab import files\n",
        "\n",
        "uploaded = files.upload()"
      ],
      "execution_count": 2,
      "outputs": [
        {
          "output_type": "display_data",
          "data": {
            "text/html": [
              "\n",
              "     <input type=\"file\" id=\"files-490ac05d-3da7-4d83-8441-3259f4606f6b\" name=\"files[]\" multiple disabled />\n",
              "     <output id=\"result-490ac05d-3da7-4d83-8441-3259f4606f6b\">\n",
              "      Upload widget is only available when the cell has been executed in the\n",
              "      current browser session. Please rerun this cell to enable.\n",
              "      </output>\n",
              "      <script src=\"/nbextensions/google.colab/files.js\"></script> "
            ],
            "text/plain": [
              "<IPython.core.display.HTML object>"
            ]
          },
          "metadata": {
            "tags": []
          }
        },
        {
          "output_type": "stream",
          "text": [
            "Saving student-50k.txt to student-50k.txt\n",
            "Saving tutor-50k.txt to tutor-50k.txt\n"
          ],
          "name": "stdout"
        }
      ]
    },
    {
      "metadata": {
        "id": "1A1IJFOeQiIi",
        "colab_type": "code",
        "colab": {
          "autoexec": {
            "startup": false,
            "wait_interval": 0
          }
        }
      },
      "cell_type": "code",
      "source": [
        "from keras.preprocessing.text import Tokenizer\n",
        "from sklearn.model_selection import train_test_split\n",
        "from keras.preprocessing.sequence import pad_sequences\n",
        "\n",
        "def load_data(file_path):\n",
        "    tokenizer = Tokenizer(filters=\"\")\n",
        "    whole_texts = []\n",
        "    for line in open(file_path, encoding='utf-8'):\n",
        "        whole_texts.append(\"<s> \" + line.strip() + \" </s>\")\n",
        "        \n",
        "    tokenizer.fit_on_texts(whole_texts)\n",
        "    \n",
        "    return tokenizer.texts_to_sequences(whole_texts), tokenizer\n",
        "\n",
        "# 読み込み＆Tokenizerによる数値化\n",
        "train_X, tokenizer_st = load_data('student-50k.txt')\n",
        "train_Y, tokenizer_tu = load_data('tutor-50k.txt')\n",
        "\n",
        "st_vocab_size = len(tokenizer_st.word_index) + 1\n",
        "tu_vocab_size = len(tokenizer_tu.word_index) + 1\n",
        "\n",
        "train_X, test_X, train_Y, test_Y = train_test_split(train_X, train_Y, test_size=0.02, random_state=42)\n",
        "\n",
        "# パディング\n",
        "train_X = pad_sequences(train_X, padding='post')\n",
        "train_Y = pad_sequences(train_Y, padding='post')\n",
        "\n",
        "seqX_len = len(train_X[0])\n",
        "seqY_len = len(train_Y[0])"
      ],
      "execution_count": 0,
      "outputs": []
    },
    {
      "metadata": {
        "id": "v4ZWIAnTSwks",
        "colab_type": "code",
        "colab": {
          "autoexec": {
            "startup": false,
            "wait_interval": 0
          },
          "output_extras": [
            {
              "item_id": 1
            }
          ],
          "base_uri": "https://localhost:8080/",
          "height": 51
        },
        "outputId": "91dfaa89-9cd0-41a9-bee3-756bfd95e74b",
        "executionInfo": {
          "status": "ok",
          "timestamp": 1521617609739,
          "user_tz": -540,
          "elapsed": 607,
          "user": {
            "displayName": "Jyunji Kondo",
            "photoUrl": "//lh5.googleusercontent.com/-ePriUP2MWEY/AAAAAAAAAAI/AAAAAAAAAAA/zo08Cfn_CTk/s50-c-k-no/photo.jpg",
            "userId": "107156435865418083018"
          }
        }
      },
      "cell_type": "code",
      "source": [
        "print(st_vocab_size)\n",
        "print(tu_vocab_size)"
      ],
      "execution_count": 4,
      "outputs": [
        {
          "output_type": "stream",
          "text": [
            "12507\n",
            "14950\n"
          ],
          "name": "stdout"
        }
      ]
    },
    {
      "metadata": {
        "id": "CggITw6gQWvM",
        "colab_type": "text"
      },
      "cell_type": "markdown",
      "source": [
        "# 学習"
      ]
    },
    {
      "metadata": {
        "id": "4oefM5jdQreP",
        "colab_type": "code",
        "colab": {
          "autoexec": {
            "startup": false,
            "wait_interval": 0
          }
        }
      },
      "cell_type": "code",
      "source": [
        "from keras.models import Model\n",
        "from keras.layers import Input, Permute, Activation, Embedding, Dense, LSTM, concatenate, dot\n",
        "from keras import backend as K\n",
        "\n",
        "emb_dim = 256\n",
        "hid_dim = 256\n",
        "att_dim = 256\n",
        "\n",
        "# 符号化器\n",
        "encoder_inputs = Input(shape=(seqX_len,))\n",
        "encoder_embeded = Embedding(st_vocab_size, emb_dim, mask_zero=True)(encoder_inputs)\n",
        "encoded_seq, *encoder_states = LSTM(hid_dim, return_sequences=True, return_state=True)(encoder_embeded)\n",
        "\n",
        "# 復号化器（encoder_statesを初期状態として指定）\n",
        "decoder_inputs = Input(shape=(seqY_len,))\n",
        "decoder_embeding = Embedding(tu_vocab_size, emb_dim)\n",
        "decoder_embeded = decoder_embeding(decoder_inputs)\n",
        "decoder_lstm = LSTM(hid_dim, return_sequences=True, return_state=True)\n",
        "decoded_seq, _, _ = decoder_lstm(decoder_embeded, initial_state=encoder_states)\n",
        "\n",
        "# Attention\n",
        "score_dense = Dense(hid_dim)\n",
        "score = score_dense(decoded_seq)\n",
        "score = dot([score, encoded_seq], axes=(2,2))\n",
        "attention = Activation('softmax')(score)\n",
        "context = dot([attention, encoded_seq], axes=(2,1))\n",
        "concat = concatenate([context, decoded_seq], axis=2)\n",
        "attention_dense = Dense(att_dim, activation='tanh')\n",
        "attentional = attention_dense(concat)\n",
        "output_dense = Dense(tu_vocab_size, activation='softmax')\n",
        "outputs = output_dense(attentional)\n",
        "\n",
        "model = Model([encoder_inputs, decoder_inputs], outputs)\n",
        "model.compile(optimizer='rmsprop', loss='sparse_categorical_crossentropy', metrics=['accuracy'])"
      ],
      "execution_count": 0,
      "outputs": []
    },
    {
      "metadata": {
        "id": "Lj5yq3N-Qv-O",
        "colab_type": "code",
        "colab": {
          "autoexec": {
            "startup": false,
            "wait_interval": 0
          },
          "output_extras": [
            {
              "item_id": 14
            }
          ],
          "base_uri": "https://localhost:8080/",
          "height": 425
        },
        "outputId": "b84cb39a-6ed6-48f7-a8c3-c773e1e65561",
        "executionInfo": {
          "status": "ok",
          "timestamp": 1521442945276,
          "user_tz": -540,
          "elapsed": 8880346,
          "user": {
            "displayName": "Jyunji Kondo",
            "photoUrl": "//lh5.googleusercontent.com/-ePriUP2MWEY/AAAAAAAAAAI/AAAAAAAAAAA/zo08Cfn_CTk/s50-c-k-no/photo.jpg",
            "userId": "107156435865418083018"
          }
        }
      },
      "cell_type": "code",
      "source": [
        "import numpy as np\n",
        "from keras.callbacks import EarlyStopping\n",
        "\n",
        "train_target = np.hstack((train_Y[:, 1:], np.zeros((len(train_Y),1), dtype=np.int32)))\n",
        "\n",
        "early_stopping = EarlyStopping(patience=1, verbose=1)\n",
        "\n",
        "fit = model.fit([train_X, train_Y], np.expand_dims(train_target, -1), batch_size=128, epochs=20, verbose=2, validation_split=0.2, callbacks=[early_stopping])"
      ],
      "execution_count": 17,
      "outputs": [
        {
          "output_type": "stream",
          "text": [
            "Train on 39200 samples, validate on 9800 samples\n",
            "Epoch 1/20\n",
            " - 807s - loss: 0.3497 - acc: 0.9652 - val_loss: 0.1868 - val_acc: 0.9710\n",
            "Epoch 2/20\n",
            " - 809s - loss: 0.1752 - acc: 0.9724 - val_loss: 0.1708 - val_acc: 0.9730\n",
            "Epoch 3/20\n",
            " - 810s - loss: 0.1640 - acc: 0.9740 - val_loss: 0.1635 - val_acc: 0.9742\n",
            "Epoch 4/20\n",
            " - 809s - loss: 0.1568 - acc: 0.9748 - val_loss: 0.1587 - val_acc: 0.9746\n",
            "Epoch 5/20\n",
            " - 808s - loss: 0.1521 - acc: 0.9753 - val_loss: 0.1568 - val_acc: 0.9749\n",
            "Epoch 6/20\n",
            " - 804s - loss: 0.1483 - acc: 0.9758 - val_loss: 0.1562 - val_acc: 0.9751\n",
            "Epoch 7/20\n",
            " - 800s - loss: 0.1451 - acc: 0.9761 - val_loss: 0.1548 - val_acc: 0.9753\n",
            "Epoch 8/20\n",
            " - 806s - loss: 0.1423 - acc: 0.9765 - val_loss: 0.1545 - val_acc: 0.9753\n",
            "Epoch 9/20\n",
            " - 808s - loss: 0.1396 - acc: 0.9768 - val_loss: 0.1541 - val_acc: 0.9752\n",
            "Epoch 10/20\n",
            " - 809s - loss: 0.1370 - acc: 0.9771 - val_loss: 0.1538 - val_acc: 0.9754\n",
            "Epoch 11/20\n",
            " - 808s - loss: 0.1345 - acc: 0.9774 - val_loss: 0.1540 - val_acc: 0.9754\n",
            "Epoch 00011: early stopping\n"
          ],
          "name": "stdout"
        }
      ]
    },
    {
      "metadata": {
        "id": "UA1a5YedgYde",
        "colab_type": "code",
        "colab": {
          "autoexec": {
            "startup": false,
            "wait_interval": 0
          },
          "output_extras": [
            {
              "item_id": 1
            },
            {
              "item_id": 2
            }
          ],
          "base_uri": "https://localhost:8080/",
          "height": 735
        },
        "outputId": "4cac8204-a224-49f2-9c66-b7da1bff0a1b",
        "executionInfo": {
          "status": "ok",
          "timestamp": 1521443356452,
          "user_tz": -540,
          "elapsed": 1005,
          "user": {
            "displayName": "Jyunji Kondo",
            "photoUrl": "//lh5.googleusercontent.com/-ePriUP2MWEY/AAAAAAAAAAI/AAAAAAAAAAA/zo08Cfn_CTk/s50-c-k-no/photo.jpg",
            "userId": "107156435865418083018"
          }
        }
      },
      "cell_type": "code",
      "source": [
        "import matplotlib.pyplot as plt\n",
        "\n",
        "def plot_history(history):\n",
        "    plt.plot(history['acc'])\n",
        "    plt.plot(history['val_acc'])\n",
        "    plt.title('model accuracy')\n",
        "    plt.xlabel('epoch')\n",
        "    plt.ylabel('accuracy')\n",
        "    plt.legend(['acc', 'val_acc'], loc='lower right')\n",
        "    plt.show()\n",
        "\n",
        "    plt.plot(history['loss'])\n",
        "    plt.plot(history['val_loss'])\n",
        "    plt.title('model loss')\n",
        "    plt.xlabel('epoch')\n",
        "    plt.ylabel('loss')\n",
        "    plt.legend(['loss', 'val_loss'], loc='lower right')\n",
        "    plt.show()\n",
        "\n",
        "plot_history(fit.history)"
      ],
      "execution_count": 18,
      "outputs": [
        {
          "output_type": "display_data",
          "data": {
            "image/png": "[encoded data removed]",
            "text/plain": [
              "<matplotlib.figure.Figure at 0x7f2e35540be0>"
            ]
          },
          "metadata": {
            "tags": []
          }
        },
        {
          "output_type": "display_data",
          "data": {
            "image/png": "[encoded data removed]",
            "text/plain": [
              "<matplotlib.figure.Figure at 0x7f2e33cfd588>"
            ]
          },
          "metadata": {
            "tags": []
          }
        }
      ]
    },
    {
      "metadata": {
        "id": "weJ2HLJJIGsA",
        "colab_type": "text"
      },
      "cell_type": "markdown",
      "source": [
        "モデルをファイルに保存する。"
      ]
    },
    {
      "metadata": {
        "id": "x_a8qfBuGV4K",
        "colab_type": "code",
        "colab": {
          "autoexec": {
            "startup": false,
            "wait_interval": 0
          },
          "output_extras": [
            {
              "item_id": 1
            }
          ],
          "base_uri": "https://localhost:8080/",
          "height": 71
        },
        "outputId": "97571d15-ffcb-4884-faee-594cc00b2e3f",
        "executionInfo": {
          "status": "ok",
          "timestamp": 1521443607707,
          "user_tz": -540,
          "elapsed": 816,
          "user": {
            "displayName": "Jyunji Kondo",
            "photoUrl": "//lh5.googleusercontent.com/-ePriUP2MWEY/AAAAAAAAAAI/AAAAAAAAAAA/zo08Cfn_CTk/s50-c-k-no/photo.jpg",
            "userId": "107156435865418083018"
          }
        }
      },
      "cell_type": "code",
      "source": [
        "model.save('./s2s-50k.h5')"
      ],
      "execution_count": 19,
      "outputs": [
        {
          "output_type": "stream",
          "text": [
            "/usr/local/lib/python3.6/dist-packages/keras/engine/topology.py:2368: UserWarning: Layer lstm_6 was passed non-serializable keyword arguments: {'initial_state': [<tf.Tensor 'lstm_5/while/Exit_2:0' shape=(?, 256) dtype=float32>, <tf.Tensor 'lstm_5/while/Exit_3:0' shape=(?, 256) dtype=float32>]}. They will not be included in the serialized model (and thus will be missing at deserialization time).\n",
            "  str(node.arguments) + '. They will not be included '\n"
          ],
          "name": "stderr"
        }
      ]
    },
    {
      "metadata": {
        "id": "SLjfFta2T4a1",
        "colab_type": "code",
        "colab": {
          "autoexec": {
            "startup": false,
            "wait_interval": 0
          }
        }
      },
      "cell_type": "code",
      "source": [
        "files.download('./s2s-50k.h5')"
      ],
      "execution_count": 0,
      "outputs": []
    },
    {
      "metadata": {
        "id": "2oOd7mgrImMN",
        "colab_type": "text"
      },
      "cell_type": "markdown",
      "source": [
        "# 予測"
      ]
    },
    {
      "metadata": {
        "id": "K35hfVPjIqG4",
        "colab_type": "text"
      },
      "cell_type": "markdown",
      "source": [
        "モデルをファイルから読み込む。"
      ]
    },
    {
      "metadata": {
        "id": "7nhJBqxFIvlF",
        "colab_type": "code",
        "colab": {
          "autoexec": {
            "startup": false,
            "wait_interval": 0
          },
          "output_extras": [
            {
              "item_id": 1
            },
            {
              "item_id": 2
            }
          ],
          "resources": {
            "http://localhost:8080/nbextensions/google.colab/files.js": {
              "data": "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",
              "ok": true,
              "headers": [
                [
                  "content-type",
                  "application/javascript"
                ]
              ],
              "status": 200,
              "status_text": ""
            }
          },
          "base_uri": "https://localhost:8080/",
          "height": 69
        },
        "outputId": "5cc34900-cc8b-412f-a444-68f6edf472f1",
        "executionInfo": {
          "status": "ok",
          "timestamp": 1521618466209,
          "user_tz": -540,
          "elapsed": 850224,
          "user": {
            "displayName": "Jyunji Kondo",
            "photoUrl": "//lh5.googleusercontent.com/-ePriUP2MWEY/AAAAAAAAAAI/AAAAAAAAAAA/zo08Cfn_CTk/s50-c-k-no/photo.jpg",
            "userId": "107156435865418083018"
          }
        }
      },
      "cell_type": "code",
      "source": [
        "from google.colab import files\n",
        "\n",
        "uploaded = files.upload()"
      ],
      "execution_count": 5,
      "outputs": [
        {
          "output_type": "display_data",
          "data": {
            "text/html": [
              "\n",
              "     <input type=\"file\" id=\"files-7541dea9-a413-44f7-a4b2-42734116c349\" name=\"files[]\" multiple disabled />\n",
              "     <output id=\"result-7541dea9-a413-44f7-a4b2-42734116c349\">\n",
              "      Upload widget is only available when the cell has been executed in the\n",
              "      current browser session. Please rerun this cell to enable.\n",
              "      </output>\n",
              "      <script src=\"/nbextensions/google.colab/files.js\"></script> "
            ],
            "text/plain": [
              "<IPython.core.display.HTML object>"
            ]
          },
          "metadata": {
            "tags": []
          }
        },
        {
          "output_type": "stream",
          "text": [
            "Saving s2s-50k.h5 to s2s-50k.h5\n"
          ],
          "name": "stdout"
        }
      ]
    },
    {
      "metadata": {
        "id": "b0d8ew_3Rhg0",
        "colab_type": "code",
        "colab": {
          "autoexec": {
            "startup": false,
            "wait_interval": 0
          }
        }
      },
      "cell_type": "code",
      "source": [
        "from keras.models import Model\n",
        "from keras.layers import Input, Permute, Activation, Embedding, Dense, LSTM, concatenate, dot\n",
        "from keras import backend as K\n",
        "\n",
        "emb_dim = 256\n",
        "hid_dim = 256\n",
        "att_dim = 256\n",
        "\n",
        "# 符号化器\n",
        "encoder_inputs = Input(shape=(seqX_len,))\n",
        "encoder_embeded = Embedding(st_vocab_size, emb_dim, mask_zero=True)(encoder_inputs)\n",
        "encoded_seq, *encoder_states = LSTM(hid_dim, return_sequences=True, return_state=True)(encoder_embeded)\n",
        "\n",
        "# 復号化器（encoder_statesを初期状態として指定）\n",
        "decoder_inputs = Input(shape=(seqY_len,))\n",
        "decoder_embeding = Embedding(tu_vocab_size, emb_dim)\n",
        "decoder_embeded = decoder_embeding(decoder_inputs)\n",
        "decoder_lstm = LSTM(hid_dim, return_sequences=True, return_state=True)\n",
        "decoded_seq, _, _ = decoder_lstm(decoder_embeded, initial_state=encoder_states)\n",
        "\n",
        "# Attention\n",
        "score_dense = Dense(hid_dim)\n",
        "score = score_dense(decoded_seq)\n",
        "score = dot([score, encoded_seq], axes=(2,2))\n",
        "attention = Activation('softmax')(score)\n",
        "context = dot([attention, encoded_seq], axes=(2,1))\n",
        "concat = concatenate([context, decoded_seq], axis=2)\n",
        "attention_dense = Dense(att_dim, activation='tanh')\n",
        "attentional = attention_dense(concat)\n",
        "output_dense = Dense(tu_vocab_size, activation='softmax')\n",
        "outputs = output_dense(attentional)\n",
        "\n",
        "model = Model([encoder_inputs, decoder_inputs], outputs)\n",
        "model.compile(optimizer='rmsprop', loss='sparse_categorical_crossentropy', metrics=['accuracy'])"
      ],
      "execution_count": 0,
      "outputs": []
    },
    {
      "metadata": {
        "id": "YxxeNNf7Rxly",
        "colab_type": "code",
        "colab": {
          "autoexec": {
            "startup": false,
            "wait_interval": 0
          }
        }
      },
      "cell_type": "code",
      "source": [
        "model.load_weights('./s2s-50k.h5')"
      ],
      "execution_count": 0,
      "outputs": []
    },
    {
      "metadata": {
        "id": "xoRU9MxCR4KT",
        "colab_type": "code",
        "colab": {
          "autoexec": {
            "startup": false,
            "wait_interval": 0
          }
        }
      },
      "cell_type": "code",
      "source": [
        "encoder_model = Model(encoder_inputs, [encoded_seq]+encoder_states)\n",
        "\n",
        "decoder_states_inputs = [Input(shape=(hid_dim,)), Input(shape=(hid_dim,))]\n",
        "\n",
        "decoder_inputs = Input(shape=(1,))\n",
        "decoder_embeded = decoder_embeding(decoder_inputs)\n",
        "decoded_seq, *decoder_states = decoder_lstm(decoder_embeded, initial_state=decoder_states_inputs)\n",
        "\n",
        "decoder_model = Model([decoder_inputs] + decoder_states_inputs, [decoded_seq] + decoder_states)\n",
        "\n",
        "# Attention\n",
        "encoded_seq_in, decoded_seq_in = Input(shape=(seqX_len, hid_dim)), Input(shape=(1, hid_dim))\n",
        "score = score_dense(decoded_seq_in)\n",
        "score = dot([score, encoded_seq_in], axes=(2,2))\n",
        "attention = Activation('softmax')(score)\n",
        "context = dot([attention, encoded_seq_in], axes=(2,1))\n",
        "concat = concatenate([context, decoded_seq_in], axis=2)\n",
        "attentional = attention_dense(concat)\n",
        "attention_outputs = output_dense(attentional)\n",
        "\n",
        "attention_model = Model([encoded_seq_in, decoded_seq_in], [attention_outputs, attention])"
      ],
      "execution_count": 0,
      "outputs": []
    },
    {
      "metadata": {
        "id": "fT_7xnUDVP62",
        "colab_type": "text"
      },
      "cell_type": "markdown",
      "source": [
        "貪欲decodingによる予測"
      ]
    },
    {
      "metadata": {
        "id": "1nVtqBlWR-jd",
        "colab_type": "code",
        "colab": {
          "autoexec": {
            "startup": false,
            "wait_interval": 0
          }
        }
      },
      "cell_type": "code",
      "source": [
        "def decode_sequence(input_seq, bos_eos, max_output_length = 1000):\n",
        "    encoded_seq, *states_value = encoder_model.predict(input_seq)\n",
        "\n",
        "    target_seq = np.array(bos_eos[0])\n",
        "    output_seq = bos_eos[0]\n",
        "    attention_seq = np.empty((0,len(input_seq[0])))\n",
        "    \n",
        "    while True:\n",
        "        decoded_seq, *states_value = decoder_model.predict([target_seq] + states_value)\n",
        "        output_tokens, attention = attention_model.predict([encoded_seq, decoded_seq])\n",
        "        sampled_token_index = [np.argmax(output_tokens[0, -1, :])]\n",
        "        output_seq += sampled_token_index\n",
        "        attention_seq = np.append(attention_seq, attention[0], axis=0)\n",
        "        \n",
        "        if (sampled_token_index == bos_eos[1] or len(output_seq) > max_output_length):\n",
        "            break\n",
        "\n",
        "        target_seq = np.array(sampled_token_index)\n",
        "\n",
        "    return output_seq, attention_seq"
      ],
      "execution_count": 0,
      "outputs": []
    },
    {
      "metadata": {
        "id": "xCNQMxxQSEGq",
        "colab_type": "code",
        "colab": {
          "autoexec": {
            "startup": false,
            "wait_interval": 0
          },
          "output_extras": [
            {
              "item_id": 1
            }
          ],
          "base_uri": "https://localhost:8080/",
          "height": 68
        },
        "outputId": "670ce68a-5c7d-41a9-88cd-c5d256fcb5c5",
        "executionInfo": {
          "status": "ok",
          "timestamp": 1521599703941,
          "user_tz": -540,
          "elapsed": 798,
          "user": {
            "displayName": "Jyunji Kondo",
            "photoUrl": "//lh5.googleusercontent.com/-ePriUP2MWEY/AAAAAAAAAAI/AAAAAAAAAAA/zo08Cfn_CTk/s50-c-k-no/photo.jpg",
            "userId": "107156435865418083018"
          }
        }
      },
      "cell_type": "code",
      "source": [
        "import numpy as np\n",
        "\n",
        "detokenizer_st = dict(map(reversed, tokenizer_st.word_index.items()))\n",
        "detokenizer_tu = dict(map(reversed, tokenizer_tu.word_index.items()))\n",
        "\n",
        "text_no = 4\n",
        "input_seq = pad_sequences([test_X[text_no]], seqX_len, padding='post')\n",
        "bos_eos = tokenizer_tu.texts_to_sequences([\"<s>\", \"</s>\"])\n",
        "\n",
        "output_seq, attention_seq = decode_sequence(input_seq, bos_eos)\n",
        "\n",
        "print('元の文:', ' '.join([detokenizer_st[i] for i in test_X[text_no]]))\n",
        "print('生成文:', ' '.join([detokenizer_tu[i] for i in output_seq]))\n",
        "print('正解文:', ' '.join([detokenizer_tu[i] for i in test_Y[text_no]]))"
      ],
      "execution_count": 10,
      "outputs": [
        {
          "output_type": "stream",
          "text": [
            "元の文: <s> はい </s>\n",
            "生成文: <s> では </s>\n",
            "正解文: <s> では 進み ます </s>\n"
          ],
          "name": "stdout"
        }
      ]
    },
    {
      "metadata": {
        "id": "JuyY9xxESJbz",
        "colab_type": "text"
      },
      "cell_type": "markdown",
      "source": [
        "beam searchで尤もらしい5つの返事を生成する。"
      ]
    },
    {
      "metadata": {
        "id": "0SUqXi2GSR74",
        "colab_type": "code",
        "colab": {
          "autoexec": {
            "startup": false,
            "wait_interval": 0
          }
        }
      },
      "cell_type": "code",
      "source": [
        "def beam_search(input_seq, bos_eos, max_output_length = 1000, k=5):\n",
        "    encoded_seq, *states_value = encoder_model.predict(input_seq)\n",
        "\n",
        "    target_seq = np.array(bos_eos[0])\n",
        "    output_seq = bos_eos[0]\n",
        "    attention_seq = np.empty((0,len(input_seq[0])))\n",
        "\n",
        "    candidates = [[0, target_seq, output_seq, states_value]]\n",
        "    t = 0\n",
        "\n",
        "    while t < max_output_length:\n",
        "        t += 1\n",
        "        tmp_candidates = []\n",
        "        end_flag = True\n",
        "        for score_tm1, target_seq, output_seq, states_value in candidates:\n",
        "            if target_seq[0] == bos_eos[1]:\n",
        "                tmp_candidates.append([score_tm1, target_seq, output_seq, states_value])\n",
        "            else:\n",
        "                end_flag = False\n",
        "                decoded_seq, *states_value = decoder_model.predict([target_seq] + states_value)\n",
        "                output_tokens, attention = attention_model.predict([encoded_seq, decoded_seq])\n",
        "                # 対数化\n",
        "                loged_output_tokens = np.log(output_tokens[0, -1, :])\n",
        "                # 確率の高い単語とそのidを取得\n",
        "                y_t, s_t = np.argsort(loged_output_tokens)[::-1][:k], np.sort(loged_output_tokens)[::-1][:k]\n",
        "                # スコア (対数尤度) を蓄積\n",
        "                score_t = score_tm1 + s_t\n",
        "                # すべての候補を一時的に保管\n",
        "                tmp_candidates.extend(\n",
        "                    [[score_tk, np.array([y_tk]), np.append(output_seq, y_tk), states_value]\n",
        "                        for score_tk, y_tk in zip(score_t, y_t)]\n",
        "                )\n",
        "        if end_flag:\n",
        "            break\n",
        "\n",
        "        # 正規化したスコアでソートし, 上位K個の候補を保存\n",
        "        candidates = sorted(tmp_candidates, key=lambda x: -x[0]/len(x[2]))[:k]\n",
        "    output_seqs = []\n",
        "    for c in candidates:\n",
        "        output_seqs.append(c[2])\n",
        "\n",
        "    return output_seqs"
      ],
      "execution_count": 0,
      "outputs": []
    },
    {
      "metadata": {
        "id": "mQEh5UqDScsG",
        "colab_type": "code",
        "colab": {
          "autoexec": {
            "startup": false,
            "wait_interval": 0
          },
          "output_extras": [
            {
              "item_id": 1
            }
          ],
          "base_uri": "https://localhost:8080/",
          "height": 136
        },
        "outputId": "5f1d9332-8227-49e0-b9d2-70249f787740",
        "executionInfo": {
          "status": "ok",
          "timestamp": 1521618513721,
          "user_tz": -540,
          "elapsed": 935,
          "user": {
            "displayName": "Jyunji Kondo",
            "photoUrl": "//lh5.googleusercontent.com/-ePriUP2MWEY/AAAAAAAAAAI/AAAAAAAAAAA/zo08Cfn_CTk/s50-c-k-no/photo.jpg",
            "userId": "107156435865418083018"
          }
        }
      },
      "cell_type": "code",
      "source": [
        "import numpy as np\n",
        "\n",
        "detokenizer_st = dict(map(reversed, tokenizer_st.word_index.items()))\n",
        "detokenizer_tu = dict(map(reversed, tokenizer_tu.word_index.items()))\n",
        "\n",
        "text_no = 320\n",
        "input_seq = pad_sequences([test_X[text_no]], seqX_len, padding='post')\n",
        "bos_eos = tokenizer_tu.texts_to_sequences([\"<s>\", \"</s>\"])\n",
        "\n",
        "output_seqs = beam_search(input_seq, bos_eos)\n",
        "\n",
        "print('元の文:', ' '.join([detokenizer_st[i] for i in test_X[text_no]]))\n",
        "for seq in output_seqs:\n",
        "    print('生成文:', ' '.join([detokenizer_tu[i] for i in seq]))\n",
        "print('正解文:', ' '.join([detokenizer_tu[i] for i in test_Y[text_no]]))"
      ],
      "execution_count": 10,
      "outputs": [
        {
          "output_type": "stream",
          "text": [
            "元の文: <s> あり まーす </s>\n",
            "生成文: <s> そう だ ね </s>\n",
            "生成文: <s> そう だ よ ね </s>\n",
            "生成文: <s> うん </s>\n",
            "生成文: <s> はい </s>\n",
            "生成文: <s> そう だ よ </s>\n",
            "正解文: <s> おおいい ね </s>\n"
          ],
          "name": "stdout"
        }
      ]
    },
    {
      "metadata": {
        "id": "PzLzGd-OR02J",
        "colab_type": "text"
      },
      "cell_type": "markdown",
      "source": [
        "# 評価"
      ]
    },
    {
      "metadata": {
        "id": "vSMt1svUZyQn",
        "colab_type": "text"
      },
      "cell_type": "markdown",
      "source": [
        "共通処理"
      ]
    },
    {
      "metadata": {
        "id": "A7Ttm_ZjZ1Sg",
        "colab_type": "code",
        "colab": {
          "autoexec": {
            "startup": false,
            "wait_interval": 0
          }
        }
      },
      "cell_type": "code",
      "source": [
        "from nltk.translate.bleu_score import sentence_bleu\n",
        "\n",
        "def padding(s):\n",
        "  if len(s) < 4:\n",
        "    s = pad_sequences([s], 4, value=2, padding='post')[0] # value=2 は、'</s>'\n",
        "  return s\n",
        "\n",
        "bos_eos = tokenizer_tu.texts_to_sequences([\"<s>\", \"</s>\"])\n",
        "detokenizer_tu = dict(map(reversed, tokenizer_tu.word_index.items()))\n"
      ],
      "execution_count": 0,
      "outputs": []
    },
    {
      "metadata": {
        "id": "e1SyTtDx3qKn",
        "colab_type": "text"
      },
      "cell_type": "markdown",
      "source": [
        "greedy decodingによるBLEU値"
      ]
    },
    {
      "metadata": {
        "id": "1KU4jetc3iV1",
        "colab_type": "code",
        "colab": {
          "autoexec": {
            "startup": false,
            "wait_interval": 0
          },
          "output_extras": [
            {
              "item_id": 1
            }
          ],
          "base_uri": "https://localhost:8080/",
          "height": 34
        },
        "outputId": "0cfcb0d6-faa5-4402-c1b3-ce403979e08d",
        "executionInfo": {
          "status": "ok",
          "timestamp": 1521523718541,
          "user_tz": -540,
          "elapsed": 194818,
          "user": {
            "displayName": "Jyunji Kondo",
            "photoUrl": "//lh5.googleusercontent.com/-ePriUP2MWEY/AAAAAAAAAAI/AAAAAAAAAAA/zo08Cfn_CTk/s50-c-k-no/photo.jpg",
            "userId": "107156435865418083018"
          }
        }
      },
      "cell_type": "code",
      "source": [
        "output_seqs = [\n",
        "    decode_sequence(pad_sequences([test_X[i]], seqX_len, padding='post'), tokenizer_tu.texts_to_sequences([\"<s>\", \"</s>\"]))[0]\n",
        "    for i in range(len(test_X))\n",
        "]\n",
        "\n",
        "preds = [[detokenizer_tu[i] for i in padding(seq)] for seq in output_seqs]\n",
        "refs = [[detokenizer_tu[j] for j in padding(test_Y[i])] for i in range(len(test_Y))]\n",
        "print(np.mean([sentence_bleu([ref], pred) for ref, pred in zip(refs, preds)]))"
      ],
      "execution_count": 83,
      "outputs": [
        {
          "output_type": "stream",
          "text": [
            "0.4909378251237181\n"
          ],
          "name": "stdout"
        }
      ]
    },
    {
      "metadata": {
        "id": "dMR8LpP02OKe",
        "colab_type": "text"
      },
      "cell_type": "markdown",
      "source": [
        "beam searchによるBLEU値（5つの生成メッセージ中の最良のBLUE値の平均）"
      ]
    },
    {
      "metadata": {
        "id": "04wH8C5s2ULx",
        "colab_type": "code",
        "colab": {
          "autoexec": {
            "startup": false,
            "wait_interval": 0
          },
          "output_extras": [
            {
              "item_id": 1
            }
          ],
          "base_uri": "https://localhost:8080/",
          "height": 34
        },
        "outputId": "a3ffb5c2-c542-45e8-d0bc-d3cc75bbe0fe",
        "executionInfo": {
          "status": "ok",
          "timestamp": 1521618826419,
          "user_tz": -540,
          "elapsed": 290867,
          "user": {
            "displayName": "Jyunji Kondo",
            "photoUrl": "//lh5.googleusercontent.com/-ePriUP2MWEY/AAAAAAAAAAI/AAAAAAAAAAA/zo08Cfn_CTk/s50-c-k-no/photo.jpg",
            "userId": "107156435865418083018"
          }
        }
      },
      "cell_type": "code",
      "source": [
        "output_seqs = [\n",
        "    beam_search(pad_sequences([test_X[i]], seqX_len, padding='post'), bos_eos)\n",
        "    for i in range(len(test_X))\n",
        "]\n",
        "\n",
        "predss = [[[detokenizer_tu[i] for i in padding(seq)] for seq in seqs] for seqs in output_seqs]\n",
        "refs = [[detokenizer_tu[j] for j in padding(test_Y[i])] for i in range(len(test_Y))]\n",
        "print(np.mean([np.max([sentence_bleu([ref], pred) for pred in preds]) for ref, preds in zip(refs, predss)]))"
      ],
      "execution_count": 12,
      "outputs": [
        {
          "output_type": "stream",
          "text": [
            "0.6177252973643976\n"
          ],
          "name": "stdout"
        }
      ]
    },
    {
      "metadata": {
        "id": "BN2TNLdo0a4U",
        "colab_type": "text"
      },
      "cell_type": "markdown",
      "source": [
        "beam searchによるBLEU値（最尤の生成メッセージのBLEU値の平均）"
      ]
    },
    {
      "metadata": {
        "id": "3SswPYbXiHbI",
        "colab_type": "code",
        "colab": {
          "autoexec": {
            "startup": false,
            "wait_interval": 0
          },
          "output_extras": [
            {
              "item_id": 1
            }
          ],
          "base_uri": "https://localhost:8080/",
          "height": 34
        },
        "outputId": "ea95b424-4b72-48a7-8d22-294191e34375",
        "executionInfo": {
          "status": "ok",
          "timestamp": 1521619789550,
          "user_tz": -540,
          "elapsed": 286747,
          "user": {
            "displayName": "Jyunji Kondo",
            "photoUrl": "//lh5.googleusercontent.com/-ePriUP2MWEY/AAAAAAAAAAI/AAAAAAAAAAA/zo08Cfn_CTk/s50-c-k-no/photo.jpg",
            "userId": "107156435865418083018"
          }
        }
      },
      "cell_type": "code",
      "source": [
        "output_seqs = [\n",
        "    beam_search(pad_sequences([test_X[i]], seqX_len, padding='post'), bos_eos)\n",
        "    for i in range(len(test_X))\n",
        "]\n",
        "\n",
        "predss = [[[detokenizer_tu[i] for i in padding(seq)] for seq in seqs] for seqs in output_seqs]\n",
        "refs = [[detokenizer_tu[j] for j in padding(test_Y[i])] for i in range(len(test_Y))]\n",
        "print(np.mean([sentence_bleu([ref], preds[0]) for ref, preds in zip(refs, predss)]))"
      ],
      "execution_count": 13,
      "outputs": [
        {
          "output_type": "stream",
          "text": [
            "0.5140164492587093\n"
          ],
          "name": "stdout"
        }
      ]
    }
  ]
}